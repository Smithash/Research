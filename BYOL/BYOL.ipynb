{
 "cells": [
  {
   "cell_type": "markdown",
   "metadata": {},
   "source": [
    "## Imports"
   ]
  },
  {
   "cell_type": "code",
   "execution_count": null,
   "metadata": {},
   "outputs": [],
   "source": [
    "import copy\n",
    "import torch\n",
    "import torchvision\n",
    "from torch import nn\n",
    "from lightly.loss import NegativeCosineSimilarity\n",
    "from lightly.models.modules import BYOLPredictionHead, BYOLProjectionHead\n",
    "from lightly.models.utils import deactivate_requires_grad, update_momentum\n",
    "from lightly.transforms.byol_transform import (BYOLTransform, BYOLView1Transform, BYOLView2Transform,)\n",
    "from lightly.utils.scheduler import cosine_schedule"
   ]
  },
  {
   "cell_type": "markdown",
   "metadata": {},
   "source": [
    "## Data Preprocessing"
   ]
  },
  {
   "cell_type": "code",
   "execution_count": null,
   "metadata": {},
   "outputs": [],
   "source": [
    "import os\n",
    "import numpy as np\n",
    "import torch\n",
    "from torch.utils.data import Dataset, DataLoader\n",
    "import torchvision.transforms as transforms\n",
    "import lightly\n",
    "import matplotlib.pyplot as plt\n",
    "from PIL import Image  # Ensure you import this for image handling\n",
    "import scipy.io\n",
    "\n",
    "class OCTDataset(Dataset):\n",
    "    def __init__(self, data_dir, transform=None):\n",
    "        self.data_dir = data_dir\n",
    "        self.transform = transform\n",
    "        self.valid_data = []\n",
    "        self._process_all_files()\n",
    "\n",
    "    def _process_all_files(self):\n",
    "        files = os.listdir(self.data_dir)\n",
    "        for file_name in files:\n",
    "            file_path = os.path.join(self.data_dir, file_name)\n",
    "            mat = scipy.io.loadmat(file_path)\n",
    "            images = mat['images']\n",
    "            x, y, nimages = images.shape\n",
    "            ini, fin = int(y / 4), int(y * 3 / 4)\n",
    "            for i in range(nimages):\n",
    "                image = images[:, ini:fin, i].astype(np.float32)\n",
    "                image = (image - image.min()) / (image.max() - image.min())  # Normalize to [0, 1]\n",
    "                self.valid_data.append(image)\n",
    "\n",
    "    def __len__(self):\n",
    "        return len(self.valid_data)\n",
    "\n",
    "    def __getitem__(self, idx):\n",
    "        image = self.valid_data[idx]\n",
    "        image = Image.fromarray((image * 255).astype(np.uint8))  # Convert to PIL Image for transforms\n",
    "        if self.transform:\n",
    "            view1 = self.transform(image)\n",
    "            view2 = self.transform(image)\n",
    "        return view1, view2\n",
    "\n",
    "# Define BYOL augmentations using Lightly's `SimCLRTransform`\n",
    "byol_augmentations = BYOLTransform(\n",
    "    view_1_transform = BYOLView1Transform(input_size = 512, gaussian_blur=0.0),\n",
    "    view_2_transform = BYOLView2Transform(input_size = 512, gaussian_blur =0.0 )\n",
    ")\n",
    "\n",
    "# Initialize dataset and dataloader\n",
    "#train_data_dir = \"drive/MyDrive/Research_Data/train_data\"\n",
    "train_data_dir = \"/Users/ashleasmith/Desktop/Postgrad CS/Research Project/Research_Data\"\n",
    "train_dataset = OCTDataset(train_data_dir, transform=byol_augmentations)\n",
    "train_loader = DataLoader(train_dataset, batch_size=32, shuffle=True, num_workers=4)\n",
    "\n"
   ]
  },
  {
   "cell_type": "markdown",
   "metadata": {},
   "source": [
    "## BYOL Model"
   ]
  },
  {
   "cell_type": "code",
   "execution_count": null,
   "metadata": {},
   "outputs": [],
   "source": [
    "class BYOL(nn.Module):\n",
    "    def __init__(self, backbone):\n",
    "        super().__init__()\n",
    "        \n",
    "        self.backbone = backbone\n",
    "        self.projection_head = BYOLProjectionHead(512, 1024, 256)\n",
    "        self.prediction_head = BYOLPredictionHead(256, 1024, 256)\n",
    "        \n",
    "        self.backbone_momentum = copy.deepcopy(self.backbone)\n",
    "        self.projection_head_momentum = copy.deepcopy(self.projection_head)\n",
    "        \n",
    "        deactivate_requires_grad(self.backbone_momentum)\n",
    "        deactivate_requires_grad(self.projection_head_momentum)\n",
    "    \n",
    "    def forward(self, x):\n",
    "        y = self.backbone(x).flattern(start_dim =1)\n",
    "        z = self.projection_head(y)\n",
    "        p = self.prediction_head(z)\n",
    "        return p\n",
    "    \n",
    "    def forward_momentum(self, x):\n",
    "        y = self.backbone_momentum(x).flattern(start_dim =1)\n",
    "        z = self.projection_head_momentum(y)\n",
    "        z = z.detach()\n",
    "        return z"
   ]
  },
  {
   "cell_type": "code",
   "execution_count": null,
   "metadata": {},
   "outputs": [],
   "source": [
    "resnet = torchvision.models.resnet50(pretrained = False)\n",
    "backbone = nn.Sequential(*list(resnet.children())[:-1])\n",
    "model = BYOL(backbone)"
   ]
  },
  {
   "cell_type": "markdown",
   "metadata": {},
   "source": [
    "## Training"
   ]
  },
  {
   "cell_type": "code",
   "execution_count": null,
   "metadata": {},
   "outputs": [],
   "source": [
    "criterion = NegativeCosineSimilarity()\n",
    "optimizer = torch.optim.SGD(model.parameters(), lr = 0.06, momentum = 0.9)\n",
    "device = torch.device(\"cuda\" if torch.cuda.is_available() else \"cpu\")\n",
    "model.to(device)\n",
    "epochs = 100"
   ]
  },
  {
   "cell_type": "code",
   "execution_count": null,
   "metadata": {},
   "outputs": [],
   "source": [
    "print(\"Start Training\")\n",
    "\n",
    "for epoch in range(epochs):\n",
    "    totoal_loss = 0\n",
    "    \n",
    "    momentum_val = cosine_schedule(epoch, epochs, 0.996, 1)\n",
    "    \n",
    "    for batch in dataloader:\n",
    "        x0, x1 = batch[0]\n",
    "        update_momentum(model.backbone, model.backbone_momentum, m=momentum_val)\n",
    "        update_momentum(model.projection_head, model.projection_head_momentum, m=momentum_val)\n",
    "        \n",
    "        x0 = x0.to(device)\n",
    "        x1 = x1.to(device)\n",
    "        p0 = model(x0)\n",
    "        z0 = model.forward_momentum(x0)\n",
    "        \n",
    "        p1 = model(x1)\n",
    "        z1 = model.forward_momentum(x1)\n",
    "        \n",
    "        loss = 0.5*(criterion(p0, z1) + criterion(p1, z0))\n",
    "        total_loss += loss.detach()\n",
    "        loss.backward()\n",
    "        optimizer.step()\n",
    "        optimizer.zero_grad()\n",
    "    avg_loss = total_loss /len(dataloader)\n",
    "    #log to wandb    "
   ]
  }
 ],
 "metadata": {
  "kernelspec": {
   "display_name": "Python 3",
   "language": "python",
   "name": "python3"
  },
  "language_info": {
   "codemirror_mode": {
    "name": "ipython",
    "version": 3
   },
   "file_extension": ".py",
   "mimetype": "text/x-python",
   "name": "python",
   "nbconvert_exporter": "python",
   "pygments_lexer": "ipython3",
   "version": "3.10.4"
  }
 },
 "nbformat": 4,
 "nbformat_minor": 2
}
